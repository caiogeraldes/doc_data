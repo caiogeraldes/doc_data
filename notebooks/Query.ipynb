{
 "cells": [
  {
   "cell_type": "markdown",
   "id": "3df48ccc-1592-41f3-b8c7-d9d619edb883",
   "metadata": {},
   "source": [
    "# Query model\n",
    "\n",
    "To access the sentences necessary to my PhD research, a filtering process of the following kind must be done:\n",
    "\n",
    "1. Filter sentences that contain a token whose `lemma` form that is might surface in a DcI or GcI construction, those `lemmata` are stored in `../data/mvi.csv`;\n",
    "1. Filter the sentences that are have an `infinitive` token dependent on the token that was evaluated `true` in the previous filtering step;\n",
    "1. Filter the sentences that have a `dative` or `genitive` token dependent on the token that was evaluated `true` in the first filtering step;\n",
    "1. Filter the sentences that have any nominal token in `accusative` or one of the previously filtered cases dependent on the token that was evaluated `true` in the previous two filtering steps.\n",
    "\n",
    "To programatically build these, there must be a way to:\n",
    "- store the sentences that were filtered;\n",
    "- store the identification of the tokens that evaluated true for each step;\n",
    "- store the criteria used for the evaluation."
   ]
  },
  {
   "cell_type": "markdown",
   "id": "691b80ae-3ece-45a6-97e8-cec40f42e8cc",
   "metadata": {},
   "source": [
    "# Query testing\n",
    "\n",
    "## Building handlers"
   ]
  },
  {
   "cell_type": "code",
   "execution_count": 1,
   "id": "205c8bb4-5436-419d-85e2-9492097bbced",
   "metadata": {},
   "outputs": [],
   "source": [
    "from doc_data.processor import read_data\n",
    "from doc_data.db import mongo\n",
    "import pandas as pd"
   ]
  },
  {
   "cell_type": "code",
   "execution_count": 2,
   "id": "53b6f609-354d-4064-b7cb-d6b8772365ef",
   "metadata": {},
   "outputs": [
    {
     "name": "stdout",
     "output_type": "stream",
     "text": [
      "Connected successfully\n"
     ]
    }
   ],
   "source": [
    "db = mongo(\"mongodb://localhost:27017\")\n",
    "valid_tokens = db.tokens"
   ]
  },
  {
   "cell_type": "code",
   "execution_count": 3,
   "id": "cc854159-e506-4958-905b-30983e43aa53",
   "metadata": {},
   "outputs": [],
   "source": [
    "mvi = pd.read_csv(\"../data/mvi.csv\")\n",
    "mvi = list(mvi.lemma)"
   ]
  },
  {
   "cell_type": "markdown",
   "id": "d28b3612-865d-4d57-a56f-076afa83a0b3",
   "metadata": {},
   "source": [
    "## Filtering words with MVI"
   ]
  },
  {
   "cell_type": "code",
   "execution_count": 4,
   "id": "4a7d5792-905c-4f6c-a9fd-39584a4c4d38",
   "metadata": {},
   "outputs": [
    {
     "data": {
      "text/plain": [
       "<pymongo.command_cursor.CommandCursor at 0x7f515d0c9130>"
      ]
     },
     "execution_count": 4,
     "metadata": {},
     "output_type": "execute_result"
    }
   ],
   "source": [
    "sentences_with_mvi = list(\n",
    "    valid_tokens.aggregate([\n",
    "        {\"$match\": {\"lemma\": {\"$in\": mvi}}},\n",
    "        {\"$project\": \n",
    "         {\n",
    "             \"text-sentence\": 1, \n",
    "             \"text-sentence-id\": 1,\n",
    "             \"_id\": 0\n",
    "         }\n",
    "        }\n",
    "    ])\n",
    ")\n",
    "\n",
    "ts = [x[\"text-sentence\"] for x in sentences_with_mvi]\n",
    "mvi_ids = [x[\"text-sentence-id\"] for x in sentences_with_mvi]\n",
    "\n",
    "valid_tokens.aggregate([\n",
    "    {\"$match\": {\"text-sentence\": {\"$in\": ts}}},\n",
    "    {\"$out\": \"mvi_tokens\"}\n",
    "])"
   ]
  },
  {
   "cell_type": "markdown",
   "id": "89742b4d-5360-4e5f-b8fa-84ab496f9125",
   "metadata": {},
   "source": [
    "## Filtering sentences with infinitives dependent on the MVI"
   ]
  },
  {
   "cell_type": "code",
   "execution_count": 5,
   "id": "0cd93b75-49b9-4d0b-8179-5c2a6b2397ae",
   "metadata": {},
   "outputs": [],
   "source": [
    "valid_tokens = db.mvi_tokens"
   ]
  },
  {
   "cell_type": "code",
   "execution_count": 6,
   "id": "d1ed0dcd-412c-4228-8fc7-cc11deeed259",
   "metadata": {},
   "outputs": [
    {
     "data": {
      "text/plain": [
       "<pymongo.command_cursor.CommandCursor at 0x7f50b9b5bdc0>"
      ]
     },
     "execution_count": 6,
     "metadata": {},
     "output_type": "execute_result"
    }
   ],
   "source": [
    "sentences_with_infinitive = list(\n",
    "    valid_tokens.aggregate([\n",
    "        {\"$match\": {\n",
    "                \"text-sentence-head\": {\"$in\": mvi_ids},\n",
    "                \"feats\": {\"$regex\": \"VerbForm=Inf\"}\n",
    "        }},\n",
    "        {\"$project\": \n",
    "         {\n",
    "             \"text-sentence\": 1, \n",
    "             \"text-sentence-id\": 1,\n",
    "             \"_id\": 1\n",
    "         }\n",
    "        }\n",
    "    ])\n",
    ")\n",
    "\n",
    "ts = [x[\"text-sentence\"] for x in sentences_with_infinitive]\n",
    "inf_ids = [x[\"text-sentence-id\"] for x in sentences_with_infinitive]\n",
    "\n",
    "valid_tokens.aggregate([\n",
    "    {\"$match\": {\"text-sentence\": {\"$in\": ts}}},\n",
    "    {\"$out\": \"inf_tokens\"}\n",
    "])"
   ]
  },
  {
   "cell_type": "markdown",
   "id": "5894a298-6996-46c0-a4bb-0ef087a215bd",
   "metadata": {},
   "source": [
    "## Filtering sentences with Dat/Gen"
   ]
  },
  {
   "cell_type": "code",
   "execution_count": 7,
   "id": "818d40df-f7bb-4726-9213-dfbf80fee1c5",
   "metadata": {},
   "outputs": [],
   "source": [
    "valid_tokens = db.inf_tokens"
   ]
  },
  {
   "cell_type": "code",
   "execution_count": 8,
   "id": "1a0a4773-4cc3-4d49-87c1-6a28d9e34f60",
   "metadata": {},
   "outputs": [
    {
     "data": {
      "text/plain": [
       "<pymongo.command_cursor.CommandCursor at 0x7f50b9b5b700>"
      ]
     },
     "execution_count": 8,
     "metadata": {},
     "output_type": "execute_result"
    }
   ],
   "source": [
    "possible_heads = mvi_ids\n",
    "sentences_with_dat = list(\n",
    "    valid_tokens.aggregate([\n",
    "        {\"$match\": {\n",
    "                \"text-sentence-head\": {\"$in\": possible_heads},\n",
    "                \"feats\": {\"$regex\": \"Case=Dat\"}\n",
    "        }},\n",
    "        {\"$project\": \n",
    "         {\n",
    "             \"text-sentence\": 1, \n",
    "             \"text-sentence-id\": 1,\n",
    "             \"_id\": 1\n",
    "         }\n",
    "        }\n",
    "    ])\n",
    ")\n",
    "\n",
    "ts = [x[\"text-sentence\"] for x in sentences_with_dat]\n",
    "dat_ids = [x[\"text-sentence-id\"] for x in sentences_with_dat]\n",
    "\n",
    "valid_tokens.aggregate([\n",
    "    {\"$match\": {\"text-sentence\": {\"$in\": ts}}},\n",
    "    {\"$out\": \"dat_ids\"}\n",
    "])"
   ]
  },
  {
   "cell_type": "code",
   "execution_count": 9,
   "id": "ab864d1b-1e3c-4104-b710-321fbfec8e1f",
   "metadata": {},
   "outputs": [],
   "source": [
    "from doc_data.query import get_value_by_tsi, get_dependents"
   ]
  },
  {
   "cell_type": "code",
   "execution_count": 12,
   "id": "3362b3ce-c6d8-4d3c-9e3b-5392900092c1",
   "metadata": {},
   "outputs": [
    {
     "name": "stdout",
     "output_type": "stream",
     "text": [
      "καθόλου\n",
      "μὲν\n",
      "τὸ\n",
      "μηδενὶ\n",
      "μέρει\n",
      "δὲ\n",
      "ὑπάρχειν\n"
     ]
    }
   ],
   "source": [
    "for x in mvi_ids:\n",
    "    for y in get_dependents(valid_tokens, x):\n",
    "        print(y[\"text\"])\n",
    "    break"
   ]
  }
 ],
 "metadata": {
  "kernelspec": {
   "display_name": "Python 3 (ipykernel)",
   "language": "python",
   "name": "python3"
  },
  "language_info": {
   "codemirror_mode": {
    "name": "ipython",
    "version": 3
   },
   "file_extension": ".py",
   "mimetype": "text/x-python",
   "name": "python",
   "nbconvert_exporter": "python",
   "pygments_lexer": "ipython3",
   "version": "3.8.10"
  }
 },
 "nbformat": 4,
 "nbformat_minor": 5
}
