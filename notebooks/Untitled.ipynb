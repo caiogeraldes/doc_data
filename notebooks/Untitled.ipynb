{
 "cells": [
  {
   "cell_type": "code",
   "execution_count": 56,
   "id": "f9cc5130-fe25-43d5-a974-e5b4cf8117c5",
   "metadata": {},
   "outputs": [],
   "source": [
    "from dataclasses import dataclass\n",
    "from doc_data.processor import read_data\n",
    "from stanza.models.common.doc import Sentence, Word, Document"
   ]
  },
  {
   "cell_type": "code",
   "execution_count": 188,
   "id": "ed24f243-d14a-4b61-ba82-e1a5e4c8634f",
   "metadata": {},
   "outputs": [],
   "source": [
    "import pandas as pd\n",
    "\n",
    "mvi = pd.read_csv(\"../data/mvi.csv\")\n",
    "mvi = mvi[\"lemma\"]"
   ]
  },
  {
   "cell_type": "code",
   "execution_count": 189,
   "id": "2e281f24-2e16-4cf1-b0d1-e6be09f4a767",
   "metadata": {},
   "outputs": [],
   "source": [
    "doc_path = \"../data/proc/Herodotus (0016) - Histories (001).pickle\""
   ]
  },
  {
   "cell_type": "code",
   "execution_count": 245,
   "id": "5cda0249-cc26-4c42-aee1-21e6f75b172e",
   "metadata": {},
   "outputs": [],
   "source": [
    "doc = read_data(doc_path)"
   ]
  },
  {
   "cell_type": "code",
   "execution_count": 235,
   "id": "71b48ef1-45af-44b2-8e94-9cfb1892f0a5",
   "metadata": {},
   "outputs": [],
   "source": [
    "from typing import Union, List\n",
    "\n",
    "class LocalToken(Word):\n",
    "    def __init__(self, stanza_word=None):\n",
    "        if stanza_word:\n",
    "            self.__dict__ = stanza_word.__dict__\n",
    "            \n",
    "    def get_head(self) -> Union[LocalToken, None]:\n",
    "        if self.head == 0:\n",
    "            return None\n",
    "        else:\n",
    "            return LocalToken(self.sent.words[self.head - 1])\n",
    "        \n",
    "    def get_children(self) -> Union[List[LocalToken], None]:\n",
    "        children = []\n",
    "        for token in self.sent.words:\n",
    "            if token.head == self.id:\n",
    "                children.append(LocalToken(token))\n",
    "        if len(children) == 0:\n",
    "            return None\n",
    "        return children\n",
    "    \n",
    "@dataclass\n",
    "class QueryHit:\n",
    "    sentence: Sentence\n",
    "    hit: LocalToken\n",
    "    head: Union[None, LocalToken]\n",
    "    children: List[LocalToken]\n",
    "    \n",
    "    \n",
    "def lemma_main_query(doc: Document, constraint: List[str]) -> List[QueryHit]:\n",
    "    query_hits = []\n",
    "\n",
    "    for sent in doc.sentences:\n",
    "        for token in sent.words:\n",
    "            token = LocalToken(token)\n",
    "            if token.lemma in list(mvi) and token.get_children() is not None:\n",
    "                query_hits.append(QueryHit(sentence= token.sent, hit= token, head= token.get_head(), children= token.get_children()))\n",
    "    return query_hits\n",
    "\n",
    "\n",
    "def feature_sub_query(main_hits: List[QueryHit], constraint: List[str]) -> List[QueryHit]:\n",
    "    query_hits = []\n",
    "    \n",
    "    for hit in main_hits:\n",
    "        for child in hit.children:\n",
    "            if child.feats is None:\n",
    "                continue\n",
    "            if any([feat in child.feats.split(\"|\") for feat in constraint]):\n",
    "                query_hits.append(QueryHit(sentence= child.sent, hit=child, head=child.get_head(), children = child.get_children()))\n",
    "    return query_hits\n",
    "    "
   ]
  },
  {
   "cell_type": "code",
   "execution_count": 236,
   "id": "8fdd7308-3ce1-421a-88b0-00cb56bef3f9",
   "metadata": {},
   "outputs": [],
   "source": [
    "q1_results = lemma_main_query(doc, list(mvi))"
   ]
  },
  {
   "cell_type": "code",
   "execution_count": 237,
   "id": "48134039-6321-4aad-a2f9-8cf394522592",
   "metadata": {},
   "outputs": [
    {
     "data": {
      "text/plain": [
       "1378"
      ]
     },
     "execution_count": 237,
     "metadata": {},
     "output_type": "execute_result"
    }
   ],
   "source": [
    "len(q1_results)"
   ]
  },
  {
   "cell_type": "code",
   "execution_count": 238,
   "id": "6bdd2229-cd21-4d08-b6bd-ab748d78203e",
   "metadata": {
    "tags": []
   },
   "outputs": [],
   "source": [
    "q2_results = feature_sub_query(q1_results, [\"Case=Gen\", \"Case=Dat\"])"
   ]
  },
  {
   "cell_type": "code",
   "execution_count": 212,
   "id": "60090f7a-71a5-4b98-8a50-f4bdef052423",
   "metadata": {},
   "outputs": [
    {
     "data": {
      "text/plain": [
       "793"
      ]
     },
     "execution_count": 212,
     "metadata": {},
     "output_type": "execute_result"
    }
   ],
   "source": [
    "len(q2_results)"
   ]
  },
  {
   "cell_type": "code",
   "execution_count": 209,
   "id": "7ec16b52-a9c5-4ac0-80d6-ede089bf3531",
   "metadata": {},
   "outputs": [],
   "source": [
    "q3_results = feature_sub_query(q1_results, [\"VerbForm=Inf\"])"
   ]
  },
  {
   "cell_type": "code",
   "execution_count": 211,
   "id": "784c4792-af4a-46f1-8f38-1c67186b7317",
   "metadata": {},
   "outputs": [
    {
     "data": {
      "text/plain": [
       "517"
      ]
     },
     "execution_count": 211,
     "metadata": {},
     "output_type": "execute_result"
    }
   ],
   "source": [
    "len(q3_results)"
   ]
  },
  {
   "cell_type": "code",
   "execution_count": 222,
   "id": "1250e7c1-b85d-4586-ac5c-83ec90a2b7d1",
   "metadata": {},
   "outputs": [],
   "source": [
    "q2_sents = [x.sentence for x in q2_results]\n",
    "q3_sents = [x.sentence for x in q3_results]\n",
    "q4_sents = list(set(q2_sents).intersection(set(q3_sents)))"
   ]
  },
  {
   "cell_type": "code",
   "execution_count": 247,
   "id": "3142862b-98df-4463-bee5-242a81873f54",
   "metadata": {},
   "outputs": [],
   "source": [
    "a = doc.sentences[0].words[1].__class__"
   ]
  },
  {
   "cell_type": "code",
   "execution_count": 249,
   "id": "a25e29e4-7d49-4833-93fa-94678a437a22",
   "metadata": {},
   "outputs": [
    {
     "ename": "TypeError",
     "evalue": "__class__ assignment only supported for heap types or ModuleType subclasses",
     "output_type": "error",
     "traceback": [
      "\u001b[0;31m---------------------------------------------------------------------------\u001b[0m",
      "\u001b[0;31mTypeError\u001b[0m                                 Traceback (most recent call last)",
      "Input \u001b[0;32mIn [249]\u001b[0m, in \u001b[0;36m<cell line: 1>\u001b[0;34m()\u001b[0m\n\u001b[0;32m----> 1\u001b[0m a\u001b[38;5;241m.\u001b[39m\u001b[38;5;18m__class__\u001b[39m \u001b[38;5;241m=\u001b[39m LocalToken\n",
      "\u001b[0;31mTypeError\u001b[0m: __class__ assignment only supported for heap types or ModuleType subclasses"
     ]
    }
   ],
   "source": [
    "a.__class__ = LocalToken"
   ]
  }
 ],
 "metadata": {
  "kernelspec": {
   "display_name": "Python 3 (ipykernel)",
   "language": "python",
   "name": "python3"
  },
  "language_info": {
   "codemirror_mode": {
    "name": "ipython",
    "version": 3
   },
   "file_extension": ".py",
   "mimetype": "text/x-python",
   "name": "python",
   "nbconvert_exporter": "python",
   "pygments_lexer": "ipython3",
   "version": "3.9.6"
  }
 },
 "nbformat": 4,
 "nbformat_minor": 5
}
